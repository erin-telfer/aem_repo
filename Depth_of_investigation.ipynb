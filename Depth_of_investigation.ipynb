{
 "cells": [
  {
   "cell_type": "markdown",
   "metadata": {
    "collapsed": true
   },
   "source": [
    "# Depth of investigation with AEM"
   ]
  },
  {
   "cell_type": "markdown",
   "metadata": {
    "collapsed": true
   },
   "source": [
    "Purpose of code...\n",
    "Code based on Doug code xxxx. Conversion of Ross Brodie's Matlab code that examines the depth of investigation with AEM\n",
    "\n",
    "Pre-requirements... Save output xxx\n",
    "\n",
    "Overview of this code... # = xxx, ## = user requirement\n",
    "\n",
    "contact and date..."
   ]
  },
  {
   "cell_type": "code",
   "execution_count": 1,
   "metadata": {
    "collapsed": true
   },
   "outputs": [],
   "source": [
    "#import libraries\n",
    "import pandas as pd\n",
    "import numpy as np\n",
    "from pylab import *\n",
    "from matplotlib import pyplot as plt\n",
    "import matplotlib as mpl\n",
    "from itertools import accumulate"
   ]
  },
  {
   "cell_type": "markdown",
   "metadata": {},
   "source": [
    "# User requirement: enter file one details"
   ]
  },
  {
   "cell_type": "code",
   "execution_count": 2,
   "metadata": {
    "collapsed": true
   },
   "outputs": [],
   "source": [
    "## User requirement: enter the folder location where the first .dat file is saved\n",
    "folder1= str(r\"C:/Users/u67397/AnacondaProjects/aem/input_data/\")\n",
    "\n",
    "## User requirement: enter the name of the second .dat file\n",
    "dat1= \"1\"\n",
    "\n",
    "## User requirement: enter the reference model conductivity specified for result file one\n",
    "reference_EC1 = 0.001"
   ]
  },
  {
   "cell_type": "markdown",
   "metadata": {},
   "source": [
    "# User requirement: enter file two details"
   ]
  },
  {
   "cell_type": "code",
   "execution_count": 3,
   "metadata": {
    "collapsed": true
   },
   "outputs": [],
   "source": [
    "## User requirement: enter the folder location where the second .dat file is saved\n",
    "folder2= str(r\"C:/Users/u67397/AnacondaProjects/aem/input_data/\")\n",
    "\n",
    "## User requirement: enter the name of the second .dat file\n",
    "dat2= '8'\n",
    "\n",
    "## User requirement: enter the reference model conductivity specified for result file two\n",
    "reference_EC2 = 0.01"
   ]
  },
  {
   "cell_type": "markdown",
   "metadata": {},
   "source": [
    "# User requirement: enter folder location to save files"
   ]
  },
  {
   "cell_type": "code",
   "execution_count": 4,
   "metadata": {
    "collapsed": true
   },
   "outputs": [],
   "source": [
    "## User requirement: enter the folder location where to save files into\n",
    "\n",
    "output_folder= str(r\"C:/Users/u67397/AnacondaProjects/aem/output_data\")"
   ]
  },
  {
   "cell_type": "markdown",
   "metadata": {},
   "source": [
    "#  User requirement: enter xxx threshold"
   ]
  },
  {
   "cell_type": "code",
   "execution_count": 5,
   "metadata": {
    "collapsed": true
   },
   "outputs": [],
   "source": [
    "## User requirement: enter xxx value\n",
    "threshold= 50"
   ]
  },
  {
   "cell_type": "markdown",
   "metadata": {},
   "source": [
    "# Import, process and save"
   ]
  },
  {
   "cell_type": "code",
   "execution_count": 12,
   "metadata": {
    "collapsed": true,
    "scrolled": true
   },
   "outputs": [],
   "source": [
    "# Import EC data for result one\n",
    "input_dat1= folder1 + dat1+\".dat\"\n",
    "input_data_1=pd.read_fwf(input_dat1, header=None) \n",
    "data_1=input_data_1.iloc[:,21:51].transpose().reset_index(drop=True) ###note to explain change to EC\n",
    "datlen=len(input_data_1.index)\n",
    "\n",
    "# Import EC data for result two\n",
    "input_dat2= folder2 + dat2+\".dat\"\n",
    "data_2=pd.read_fwf(input_dat2, header=None) \n",
    "data_2=data_2.iloc[:,21:51].transpose().reset_index(drop=True)"
   ]
  },
  {
   "cell_type": "code",
   "execution_count": 31,
   "metadata": {
    "collapsed": true
   },
   "outputs": [],
   "source": [
    "# Import and format depth details\n",
    "depth=input_data_1.iloc[1:2,52:82].transpose().reset_index(drop=True)\n",
    "# depth[1].iloc[-1] = depth[1].iloc[-2]\n",
    "# depth=np.cumsum(depth)\n",
    "# dt=int(depth[1].iloc[0])\n",
    "# db=int(depth[1].iloc[-1])\n",
    "\n",
    "# #Import elevation offset\n",
    "# elevation=input_data_1.iloc[:,8:9].squeeze()"
   ]
  },
  {
   "cell_type": "code",
   "execution_count": 32,
   "metadata": {},
   "outputs": [
    {
     "data": {
      "text/html": [
       "<div>\n",
       "<style>\n",
       "    .dataframe thead tr:only-child th {\n",
       "        text-align: right;\n",
       "    }\n",
       "\n",
       "    .dataframe thead th {\n",
       "        text-align: left;\n",
       "    }\n",
       "\n",
       "    .dataframe tbody tr th {\n",
       "        vertical-align: top;\n",
       "    }\n",
       "</style>\n",
       "<table border=\"1\" class=\"dataframe\">\n",
       "  <thead>\n",
       "    <tr style=\"text-align: right;\">\n",
       "      <th></th>\n",
       "      <th>1</th>\n",
       "    </tr>\n",
       "  </thead>\n",
       "  <tbody>\n",
       "    <tr>\n",
       "      <th>0</th>\n",
       "      <td>3.30</td>\n",
       "    </tr>\n",
       "    <tr>\n",
       "      <th>1</th>\n",
       "      <td>3.62</td>\n",
       "    </tr>\n",
       "    <tr>\n",
       "      <th>2</th>\n",
       "      <td>4.00</td>\n",
       "    </tr>\n",
       "    <tr>\n",
       "      <th>3</th>\n",
       "      <td>4.40</td>\n",
       "    </tr>\n",
       "    <tr>\n",
       "      <th>4</th>\n",
       "      <td>4.84</td>\n",
       "    </tr>\n",
       "    <tr>\n",
       "      <th>5</th>\n",
       "      <td>5.32</td>\n",
       "    </tr>\n",
       "    <tr>\n",
       "      <th>6</th>\n",
       "      <td>5.84</td>\n",
       "    </tr>\n",
       "    <tr>\n",
       "      <th>7</th>\n",
       "      <td>6.42</td>\n",
       "    </tr>\n",
       "    <tr>\n",
       "      <th>8</th>\n",
       "      <td>7.08</td>\n",
       "    </tr>\n",
       "    <tr>\n",
       "      <th>9</th>\n",
       "      <td>7.78</td>\n",
       "    </tr>\n",
       "    <tr>\n",
       "      <th>10</th>\n",
       "      <td>8.56</td>\n",
       "    </tr>\n",
       "    <tr>\n",
       "      <th>11</th>\n",
       "      <td>9.42</td>\n",
       "    </tr>\n",
       "    <tr>\n",
       "      <th>12</th>\n",
       "      <td>10.36</td>\n",
       "    </tr>\n",
       "    <tr>\n",
       "      <th>13</th>\n",
       "      <td>11.40</td>\n",
       "    </tr>\n",
       "    <tr>\n",
       "      <th>14</th>\n",
       "      <td>12.54</td>\n",
       "    </tr>\n",
       "    <tr>\n",
       "      <th>15</th>\n",
       "      <td>13.78</td>\n",
       "    </tr>\n",
       "    <tr>\n",
       "      <th>16</th>\n",
       "      <td>15.16</td>\n",
       "    </tr>\n",
       "    <tr>\n",
       "      <th>17</th>\n",
       "      <td>16.68</td>\n",
       "    </tr>\n",
       "    <tr>\n",
       "      <th>18</th>\n",
       "      <td>18.34</td>\n",
       "    </tr>\n",
       "    <tr>\n",
       "      <th>19</th>\n",
       "      <td>20.18</td>\n",
       "    </tr>\n",
       "    <tr>\n",
       "      <th>20</th>\n",
       "      <td>22.20</td>\n",
       "    </tr>\n",
       "    <tr>\n",
       "      <th>21</th>\n",
       "      <td>24.42</td>\n",
       "    </tr>\n",
       "    <tr>\n",
       "      <th>22</th>\n",
       "      <td>26.86</td>\n",
       "    </tr>\n",
       "    <tr>\n",
       "      <th>23</th>\n",
       "      <td>29.54</td>\n",
       "    </tr>\n",
       "    <tr>\n",
       "      <th>24</th>\n",
       "      <td>32.50</td>\n",
       "    </tr>\n",
       "    <tr>\n",
       "      <th>25</th>\n",
       "      <td>35.76</td>\n",
       "    </tr>\n",
       "    <tr>\n",
       "      <th>26</th>\n",
       "      <td>39.32</td>\n",
       "    </tr>\n",
       "    <tr>\n",
       "      <th>27</th>\n",
       "      <td>43.26</td>\n",
       "    </tr>\n",
       "    <tr>\n",
       "      <th>28</th>\n",
       "      <td>43.26</td>\n",
       "    </tr>\n",
       "    <tr>\n",
       "      <th>29</th>\n",
       "      <td>-3.00</td>\n",
       "    </tr>\n",
       "  </tbody>\n",
       "</table>\n",
       "</div>"
      ],
      "text/plain": [
       "        1\n",
       "0    3.30\n",
       "1    3.62\n",
       "2    4.00\n",
       "3    4.40\n",
       "4    4.84\n",
       "5    5.32\n",
       "6    5.84\n",
       "7    6.42\n",
       "8    7.08\n",
       "9    7.78\n",
       "10   8.56\n",
       "11   9.42\n",
       "12  10.36\n",
       "13  11.40\n",
       "14  12.54\n",
       "15  13.78\n",
       "16  15.16\n",
       "17  16.68\n",
       "18  18.34\n",
       "19  20.18\n",
       "20  22.20\n",
       "21  24.42\n",
       "22  26.86\n",
       "23  29.54\n",
       "24  32.50\n",
       "25  35.76\n",
       "26  39.32\n",
       "27  43.26\n",
       "28  43.26\n",
       "29  -3.00"
      ]
     },
     "execution_count": 32,
     "metadata": {},
     "output_type": "execute_result"
    }
   ],
   "source": [
    "depth"
   ]
  },
  {
   "cell_type": "code",
   "execution_count": 20,
   "metadata": {
    "collapsed": true,
    "scrolled": true
   },
   "outputs": [],
   "source": [
    "# calculate xxx\n",
    "rdi = (np.log10(data_2)-np.log10(data_1)) / (np.log10(reference_EC2)- np.log10(reference_EC1))\n",
    "pdi = 100 * (1-rdi)"
   ]
  },
  {
   "cell_type": "code",
   "execution_count": 21,
   "metadata": {},
   "outputs": [],
   "source": [
    "# search for values closest to threshold value set at the beginning of this notebook xxx\n",
    "doi=(np.abs(pdi - threshold))\n",
    "doi['depth']=depth\n",
    "#doi=doi.set_index('depth')\n",
    "#doi=doi.idxmin(axis=0)\n"
   ]
  },
  {
   "cell_type": "code",
   "execution_count": 24,
   "metadata": {
    "scrolled": false
   },
   "outputs": [
    {
     "data": {
      "image/png": "[encoded data removed]",
      "text/plain": [
       "<matplotlib.figure.Figure at 0x1d542390>"
      ]
     },
     "metadata": {},
     "output_type": "display_data"
    }
   ],
   "source": [
    "#create a figure that shows EC profile and depth of investigation line for one dataset\n",
    "plt.figure(figsize =(30,4)) #set size of figure\n",
    "norm=mpl.colors.LogNorm(vmin=0.0005, vmax=25.01000)#set min and max EC values\n",
    "im = plt.imshow(data_2, aspect='auto', extent=[0,10422,db,dt], \n",
    "                norm=norm,\n",
    "                cmap=cm.jet) #plot details \n",
    "plt.plot(doi) #add depth of investigation line\n",
    "plt.colorbar(im) #add colourbar\n",
    "plt.show() #show plot"
   ]
  },
  {
   "cell_type": "code",
   "execution_count": 23,
   "metadata": {},
   "outputs": [
    {
     "name": "stderr",
     "output_type": "stream",
     "text": [
      "C:\\Users\\u67397\\AppData\\Local\\Continuum\\Anaconda3\\lib\\site-packages\\pandas\\core\\indexes\\base.py:2984: RuntimeWarning: '>' not supported between instances of 'str' and 'int', sort order is undefined for incomparable objects\n",
      "  return this.join(other, how=how, return_indexers=return_indexers)\n"
     ]
    },
    {
     "ename": "AttributeError",
     "evalue": "'DataFrame' object has no attribute 'to_frame'",
     "output_type": "error",
     "traceback": [
      "\u001b[1;31m---------------------------------------------------------------------------\u001b[0m",
      "\u001b[1;31mAttributeError\u001b[0m                            Traceback (most recent call last)",
      "\u001b[1;32m<ipython-input-23-9e972b5ce36e>\u001b[0m in \u001b[0;36m<module>\u001b[1;34m()\u001b[0m\n\u001b[0;32m      1\u001b[0m \u001b[1;31m#create and save a .csv that contains depth of investigation data for input into Discover PA software\u001b[0m\u001b[1;33m\u001b[0m\u001b[1;33m\u001b[0m\u001b[0m\n\u001b[1;32m----> 2\u001b[1;33m \u001b[0mrl\u001b[0m\u001b[1;33m=\u001b[0m\u001b[0mdoi\u001b[0m\u001b[1;33m.\u001b[0m\u001b[0msubtract\u001b[0m\u001b[1;33m(\u001b[0m\u001b[0melevation\u001b[0m\u001b[1;33m)\u001b[0m\u001b[1;33m.\u001b[0m\u001b[0mto_frame\u001b[0m\u001b[1;33m(\u001b[0m\u001b[1;33m)\u001b[0m \u001b[1;31m#subtract elevation data from depth of investigation\u001b[0m\u001b[1;33m\u001b[0m\u001b[0m\n\u001b[0m\u001b[0;32m      3\u001b[0m \u001b[0mrl\u001b[0m\u001b[1;33m[\u001b[0m\u001b[1;34m'rl_'\u001b[0m\u001b[1;33m+\u001b[0m\u001b[0mstr\u001b[0m\u001b[1;33m(\u001b[0m\u001b[0mthreshold\u001b[0m\u001b[1;33m)\u001b[0m\u001b[1;33m+\u001b[0m\u001b[1;34m'%'\u001b[0m\u001b[1;33m]\u001b[0m\u001b[1;33m=\u001b[0m\u001b[0mrl\u001b[0m \u001b[1;31m#reformat\u001b[0m\u001b[1;33m\u001b[0m\u001b[0m\n\u001b[0;32m      4\u001b[0m \u001b[0mrl\u001b[0m\u001b[1;33m=\u001b[0m\u001b[0mrl\u001b[0m\u001b[1;33m.\u001b[0m\u001b[0mdrop\u001b[0m\u001b[1;33m(\u001b[0m\u001b[0mrl\u001b[0m\u001b[1;33m.\u001b[0m\u001b[0mcolumns\u001b[0m\u001b[1;33m[\u001b[0m\u001b[1;33m[\u001b[0m\u001b[1;36m0\u001b[0m\u001b[1;33m]\u001b[0m\u001b[1;33m]\u001b[0m\u001b[1;33m,\u001b[0m \u001b[0maxis\u001b[0m\u001b[1;33m=\u001b[0m\u001b[1;36m1\u001b[0m\u001b[1;33m)\u001b[0m \u001b[1;31m#reformat\u001b[0m\u001b[1;33m\u001b[0m\u001b[0m\n\u001b[0;32m      5\u001b[0m \u001b[0mrl\u001b[0m\u001b[1;33m[\u001b[0m\u001b[1;34m'total_depth_'\u001b[0m\u001b[1;33m+\u001b[0m\u001b[0mstr\u001b[0m\u001b[1;33m(\u001b[0m\u001b[0mthreshold\u001b[0m\u001b[1;33m)\u001b[0m\u001b[1;33m+\u001b[0m\u001b[1;34m'%'\u001b[0m\u001b[1;33m]\u001b[0m\u001b[1;33m=\u001b[0m\u001b[0mdoi\u001b[0m \u001b[1;31m#add depth of investigation\u001b[0m\u001b[1;33m\u001b[0m\u001b[0m\n",
      "\u001b[1;32mC:\\Users\\u67397\\AppData\\Local\\Continuum\\Anaconda3\\lib\\site-packages\\pandas\\core\\generic.py\u001b[0m in \u001b[0;36m__getattr__\u001b[1;34m(self, name)\u001b[0m\n\u001b[0;32m   2968\u001b[0m             \u001b[1;32mif\u001b[0m \u001b[0mname\u001b[0m \u001b[1;32min\u001b[0m \u001b[0mself\u001b[0m\u001b[1;33m.\u001b[0m\u001b[0m_info_axis\u001b[0m\u001b[1;33m:\u001b[0m\u001b[1;33m\u001b[0m\u001b[0m\n\u001b[0;32m   2969\u001b[0m                 \u001b[1;32mreturn\u001b[0m \u001b[0mself\u001b[0m\u001b[1;33m[\u001b[0m\u001b[0mname\u001b[0m\u001b[1;33m]\u001b[0m\u001b[1;33m\u001b[0m\u001b[0m\n\u001b[1;32m-> 2970\u001b[1;33m             \u001b[1;32mreturn\u001b[0m \u001b[0mobject\u001b[0m\u001b[1;33m.\u001b[0m\u001b[0m__getattribute__\u001b[0m\u001b[1;33m(\u001b[0m\u001b[0mself\u001b[0m\u001b[1;33m,\u001b[0m \u001b[0mname\u001b[0m\u001b[1;33m)\u001b[0m\u001b[1;33m\u001b[0m\u001b[0m\n\u001b[0m\u001b[0;32m   2971\u001b[0m \u001b[1;33m\u001b[0m\u001b[0m\n\u001b[0;32m   2972\u001b[0m     \u001b[1;32mdef\u001b[0m \u001b[0m__setattr__\u001b[0m\u001b[1;33m(\u001b[0m\u001b[0mself\u001b[0m\u001b[1;33m,\u001b[0m \u001b[0mname\u001b[0m\u001b[1;33m,\u001b[0m \u001b[0mvalue\u001b[0m\u001b[1;33m)\u001b[0m\u001b[1;33m:\u001b[0m\u001b[1;33m\u001b[0m\u001b[0m\n",
      "\u001b[1;31mAttributeError\u001b[0m: 'DataFrame' object has no attribute 'to_frame'"
     ]
    }
   ],
   "source": [
    "#create and save a .csv that contains depth of investigation data for input into Discover PA software\n",
    "rl=doi.subtract(elevation).to_frame() #subtract elevation data from depth of investigation \n",
    "rl['rl_'+str(threshold)+'%']=rl #reformat\n",
    "rl=rl.drop(rl.columns[[0]], axis=1) #reformat \n",
    "rl['total_depth_'+str(threshold)+'%']=doi #add depth of investigation\n",
    "rl['line']=input_data_1[4] #add line data\n",
    "rl['easting']=input_data_1[6] #add easting data\n",
    "rl['northing']=input_data_1[7] #add northing data\n",
    "\n",
    "rl.to_csv(output_folder+'/depth_data.csv') #save doi data as csv"
   ]
  },
  {
   "cell_type": "code",
   "execution_count": null,
   "metadata": {
    "collapsed": true
   },
   "outputs": [],
   "source": []
  },
  {
   "cell_type": "code",
   "execution_count": null,
   "metadata": {
    "collapsed": true
   },
   "outputs": [],
   "source": []
  },
  {
   "cell_type": "code",
   "execution_count": null,
   "metadata": {
    "collapsed": true
   },
   "outputs": [],
   "source": []
  },
  {
   "cell_type": "code",
   "execution_count": 12,
   "metadata": {
    "collapsed": true
   },
   "outputs": [],
   "source": [
    "# function [pdi,threshdepth,threshdepth_median] = compute_pdi(R1,R2,pctthres,mfilterlength,afilterlength);\n",
    "\n",
    "# nlayers = size(R1.conductivity,2);\n",
    "\n",
    "# thickness = [squeeze(R1.thickness(1,:))];%assumes constant thickness along line\n",
    "\n",
    "# %pretend thickness of last layer is same as second last\n",
    "# thickness(nlayers) = thickness(nlayers-1);\n",
    "\n",
    "# dtop = [0 cumsum(thickness(1:nlayers-1))];\n",
    "# dbot = dtop + thickness;\n",
    "# dmid = (dtop + dbot)/2;\n",
    "\n",
    "# np=length(R1.fiducial);\n",
    "# rdi = (log10(R2.conductivity) - log10(R1.conductivity)) ./ (log10(R2.refcond) - log10(R1.refcond));            \n",
    "# pdi = 100 * (1 - rdi);    \n",
    "       \n",
    "# nthresh = length(pctthres);\n",
    "# threshdepth = dmid(nlayers)*ones(np,nthresh);\n",
    "# for i=1:1:nthresh\n",
    "#     for k=1:1:np\n",
    "#         li = find(pdi(k,:)>pctthres(i),1,'last');        \n",
    "#         if(isempty(li))\n",
    "#             li=nlayers;\n",
    "#         end        \n",
    "#         threshdepth(k,i)  = dmid(li);   \n",
    "#     end\n",
    "# end\n",
    "\n",
    "\n",
    "# threshdepth_median = NaN*zeros(np,nthresh);\n",
    "# for i=1:1:nthresh    \n",
    "#     dt  = threshdepth(:,i);   \n",
    "    \n",
    "#     %median filter\n",
    "#     dtm = median_filter(dt,mfilterlength);   \n",
    "    \n",
    "#     %averaging filter\n",
    "#     dta = averaging_filter(dtm,afilterlength);   \n",
    "    \n",
    "#     threshdepth_median(:,i) = dta;\n",
    "# end\n"
   ]
  },
  {
   "cell_type": "code",
   "execution_count": null,
   "metadata": {
    "collapsed": true
   },
   "outputs": [],
   "source": [
    "# elevation=pd.DataFrame(elevation).transpose()\n",
    "# depth2=pd.np.tile(depth, datlen)\n",
    "\n",
    "# elevation=pd.DataFrame(elevation)\n",
    "# elevation2=pd.np.tile(elevation,(30, 1))\n",
    "\n",
    "# elevation_offset=elevation2-depth2"
   ]
  },
  {
   "cell_type": "code",
   "execution_count": null,
   "metadata": {
    "collapsed": true
   },
   "outputs": [],
   "source": [
    "# con = pd.read_csv (r'C:\\Users\\u67397\\AnacondaProjects\\aem\\input_data/galeisbstdem.con', header=None)#import control file\n",
    "# con.replace(regex=True,to_replace=r'\\t', value=r'', inplace=True) #remove tabs\n",
    "# EC_1=con[0].shift(-1)[con[0].str.startswith('ReferenceModel Begin')]\n",
    "# EC_1= EC_1.replace(regex=True,to_replace=r'Conductivity', value=r'').replace(regex=True,to_replace=r'=', value=r'').replace(regex=True,to_replace=r' ', value=r'')\n",
    "# EC_1=pd.DataFrame(EC_1)\n",
    "# EC_1"
   ]
  },
  {
   "cell_type": "code",
   "execution_count": null,
   "metadata": {
    "collapsed": true
   },
   "outputs": [],
   "source": [
    "# #EC=con[0].shift(-1).[con[0].str.contains('ReferenceModel Begin')]#Conductivity')]\n",
    "\n",
    "# EC=con.loc[con[0].shift(-1).str.contains('ReferenceModel Begin')].fillna(False)\n",
    "# #EC_1= EC.replace(regex=True,to_replace=r'Conductivity =', value=r'')\n",
    "# # EC_1=EC_1[0].str.split((' '),expand=True).replace('',np.nan)\n",
    "# # EC_1.dropna(axis=1,inplace=True)\n",
    "# # EC_1=(pd.np.tile(EC_1, (datlen, 1)))\n",
    "# # EC_1=pd.DataFrame(EC_1)\n",
    "# EC"
   ]
  }
 ],
 "metadata": {
  "kernelspec": {
   "display_name": "Python 3",
   "language": "python",
   "name": "python3"
  },
  "language_info": {
   "codemirror_mode": {
    "name": "ipython",
    "version": 3
   },
   "file_extension": ".py",
   "mimetype": "text/x-python",
   "name": "python",
   "nbconvert_exporter": "python",
   "pygments_lexer": "ipython3",
   "version": "3.6.2"
  }
 },
 "nbformat": 4,
 "nbformat_minor": 2
}
