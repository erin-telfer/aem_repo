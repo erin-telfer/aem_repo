{
 "cells": [
  {
   "cell_type": "markdown",
   "metadata": {},
   "source": [
    "# Reference model constraint"
   ]
  },
  {
   "cell_type": "raw",
   "metadata": {},
   "source": [
    "Testing how to create reference model for each sounding\n",
    "Erin Telfer"
   ]
  },
  {
   "cell_type": "code",
   "execution_count": 1,
   "metadata": {
    "collapsed": true
   },
   "outputs": [],
   "source": [
    "# how many n soundings\n",
    "# create matix with n columns\n",
    "# use standard/input parameters\n",
    "# allow user to input own parameters at certain location\n",
    "\n",
    "## cell by sounding n or by coordinates??"
   ]
  },
  {
   "cell_type": "code",
   "execution_count": 2,
   "metadata": {
    "collapsed": true
   },
   "outputs": [],
   "source": [
    "#import libraries\n",
    "import pandas as pd\n",
    "import numpy as np\n",
    "from itertools import accumulate"
   ]
  },
  {
   "cell_type": "code",
   "execution_count": 3,
   "metadata": {
    "collapsed": true
   },
   "outputs": [],
   "source": [
    "## User requirement: enter the folder location where the .dat file is saved\n",
    "folder= str(r\"C:/Users/u67397/AnacondaProjects/aem/input_data/\")\n",
    "\n",
    "## User requirement: enter the name of the second .dat file (without the \".dat\" text)\n",
    "dat_name= str(\"AA140005_Line1080\")\n",
    "\n",
    "## User requirement: enter the reference model conductivity specified for result file\n",
    "reference_EC1= 0.001\n",
    "\n",
    "## User requirement: enter the number of layers result file\n",
    "layers= 30\n",
    "\n",
    "## User requirement: enter the name of the second .dat file (without the \".dat\" text)\n",
    "con_name= str(\"galeisbstdem\")"
   ]
  },
  {
   "cell_type": "code",
   "execution_count": 4,
   "metadata": {
    "collapsed": true
   },
   "outputs": [],
   "source": [
    "## User requirement: enter the folder location where to save files into\n",
    "\n",
    "output_folder= str(r\"C:/Users/u67397/AnacondaProjects/aem/output_data\")"
   ]
  },
  {
   "cell_type": "code",
   "execution_count": 5,
   "metadata": {
    "collapsed": true
   },
   "outputs": [],
   "source": [
    "#Enter additional information. Create tests. e.g. 3 layers at xxx location with xxx EC values"
   ]
  },
  {
   "cell_type": "code",
   "execution_count": 6,
   "metadata": {
    "collapsed": true
   },
   "outputs": [],
   "source": [
    "dat= pd.read_fwf(folder+dat_name+\".dat\", header=None)\n",
    "datlen= len(dat.index)"
   ]
  },
  {
   "cell_type": "code",
   "execution_count": 8,
   "metadata": {
    "collapsed": true
   },
   "outputs": [],
   "source": [
    "#thickness from con file\n",
    "con = pd.read_csv (folder+con_name+\".con\", header=None) #import control file\n",
    "con.replace(regex=True,to_replace=r'\\t', value=r'', inplace=True)#remove tabs\n",
    "tlayers=con.loc[con[0].str.contains('Thickness      = ')] #create a dataframe that contains layer thickness saved in confile (.con)\n",
    "thicknessoflayers= tlayers.replace(regex=True,to_replace=r'Thickness      = ', value=r'')\n",
    "thicknessoflayers=thicknessoflayers[0].str.split((' '),expand=True).replace('',np.nan)\n",
    "thicknessoflayers.dropna(axis=1,inplace=True)\n",
    "thicknessoflayers=thicknessoflayers.transpose().astype(float)\n",
    "thicknessoflayers=np.cumsum(thicknessoflayers)\n",
    "thicknessoflayers=thicknessoflayers.transpose()\n",
    "thicknessoflayers=(pd.np.tile(thicknessoflayers, (datlen, 1)))\n",
    "thicknessoflayers=pd.DataFrame(thicknessoflayers)"
   ]
  },
  {
   "cell_type": "code",
   "execution_count": 9,
   "metadata": {
    "collapsed": true
   },
   "outputs": [],
   "source": [
    "EC=pd.Series(reference_EC1)\n",
    "EC=(pd.np.tile(EC, (datlen, layers)))\n",
    "EC=pd.DataFrame(EC)"
   ]
  },
  {
   "cell_type": "code",
   "execution_count": 23,
   "metadata": {},
   "outputs": [
    {
     "data": {
      "text/plain": [
       "array([         0    1     2      3      4      5      6      7      8      9   \\\n",
       "0      3.0  6.3  9.92  13.92  18.32  23.16  28.48  34.32  40.74  47.82   \n",
       "1      3.0  6.3  9.92  13.92  18.32  23.16  28.48  34.32  40.74  47.82   \n",
       "2      3.0  6.3  9.92  13.92  18.32  23.16  28.48  34.32  40.74  47.82   \n",
       "3      3.0  6.3  9.92  13.92  18.32  23.16  28.48  34.32  40.74  47.82   \n",
       "4      3.0  6.3  9.92  13.92  18.32  23.16  28.48  34.32  40.74  47.82   \n",
       "5      3.0  6.3  9.92  13.92  18.32  23.16  28.48  34.32  40.74  47.82   \n",
       "6      3.0  6.3  9.92  13.92  18.32  23.16  28.48  34.32  40.74  47.82   \n",
       "7      3.0  6.3  9.92  13.92  18.32  23.16  28.48  34.32  40.74  47.82   \n",
       "8      3.0  6.3  9.92  13.92  18.32  23.16  28.48  34.32  40.74  47.82   \n",
       "9      3.0  6.3  9.92  13.92  18.32  23.16  28.48  34.32  40.74  47.82   \n",
       "10     3.0  6.3  9.92  13.92  18.32  23.16  28.48  34.32  40.74  47.82   \n",
       "11     3.0  6.3  9.92  13.92  18.32  23.16  28.48  34.32  40.74  47.82   \n",
       "12     3.0  6.3  9.92  13.92  18.32  23.16  28.48  34.32  40.74  47.82   \n",
       "13     3.0  6.3  9.92  13.92  18.32  23.16  28.48  34.32  40.74  47.82   \n",
       "14     3.0  6.3  9.92  13.92  18.32  23.16  28.48  34.32  40.74  47.82   \n",
       "15     3.0  6.3  9.92  13.92  18.32  23.16  28.48  34.32  40.74  47.82   \n",
       "16     3.0  6.3  9.92  13.92  18.32  23.16  28.48  34.32  40.74  47.82   \n",
       "17     3.0  6.3  9.92  13.92  18.32  23.16  28.48  34.32  40.74  47.82   \n",
       "18     3.0  6.3  9.92  13.92  18.32  23.16  28.48  34.32  40.74  47.82   \n",
       "19     3.0  6.3  9.92  13.92  18.32  23.16  28.48  34.32  40.74  47.82   \n",
       "20     3.0  6.3  9.92  13.92  18.32  23.16  28.48  34.32  40.74  47.82   \n",
       "21     3.0  6.3  9.92  13.92  18.32  23.16  28.48  34.32  40.74  47.82   \n",
       "22     3.0  6.3  9.92  13.92  18.32  23.16  28.48  34.32  40.74  47.82   \n",
       "23     3.0  6.3  9.92  13.92  18.32  23.16  28.48  34.32  40.74  47.82   \n",
       "24     3.0  6.3  9.92  13.92  18.32  23.16  28.48  34.32  40.74  47.82   \n",
       "25     3.0  6.3  9.92  13.92  18.32  23.16  28.48  34.32  40.74  47.82   \n",
       "26     3.0  6.3  9.92  13.92  18.32  23.16  28.48  34.32  40.74  47.82   \n",
       "27     3.0  6.3  9.92  13.92  18.32  23.16  28.48  34.32  40.74  47.82   \n",
       "28     3.0  6.3  9.92  13.92  18.32  23.16  28.48  34.32  40.74  47.82   \n",
       "29     3.0  6.3  9.92  13.92  18.32  23.16  28.48  34.32  40.74  47.82   \n",
       "...    ...  ...   ...    ...    ...    ...    ...    ...    ...    ...   \n",
       "20815  3.0  6.3  9.92  13.92  18.32  23.16  28.48  34.32  40.74  47.82   \n",
       "20816  3.0  6.3  9.92  13.92  18.32  23.16  28.48  34.32  40.74  47.82   \n",
       "20817  3.0  6.3  9.92  13.92  18.32  23.16  28.48  34.32  40.74  47.82   \n",
       "20818  3.0  6.3  9.92  13.92  18.32  23.16  28.48  34.32  40.74  47.82   \n",
       "20819  3.0  6.3  9.92  13.92  18.32  23.16  28.48  34.32  40.74  47.82   \n",
       "20820  3.0  6.3  9.92  13.92  18.32  23.16  28.48  34.32  40.74  47.82   \n",
       "20821  3.0  6.3  9.92  13.92  18.32  23.16  28.48  34.32  40.74  47.82   \n",
       "20822  3.0  6.3  9.92  13.92  18.32  23.16  28.48  34.32  40.74  47.82   \n",
       "20823  3.0  6.3  9.92  13.92  18.32  23.16  28.48  34.32  40.74  47.82   \n",
       "20824  3.0  6.3  9.92  13.92  18.32  23.16  28.48  34.32  40.74  47.82   \n",
       "20825  3.0  6.3  9.92  13.92  18.32  23.16  28.48  34.32  40.74  47.82   \n",
       "20826  3.0  6.3  9.92  13.92  18.32  23.16  28.48  34.32  40.74  47.82   \n",
       "20827  3.0  6.3  9.92  13.92  18.32  23.16  28.48  34.32  40.74  47.82   \n",
       "20828  3.0  6.3  9.92  13.92  18.32  23.16  28.48  34.32  40.74  47.82   \n",
       "20829  3.0  6.3  9.92  13.92  18.32  23.16  28.48  34.32  40.74  47.82   \n",
       "20830  3.0  6.3  9.92  13.92  18.32  23.16  28.48  34.32  40.74  47.82   \n",
       "20831  3.0  6.3  9.92  13.92  18.32  23.16  28.48  34.32  40.74  47.82   \n",
       "20832  3.0  6.3  9.92  13.92  18.32  23.16  28.48  34.32  40.74  47.82   \n",
       "20833  3.0  6.3  9.92  13.92  18.32  23.16  28.48  34.32  40.74  47.82   \n",
       "20834  3.0  6.3  9.92  13.92  18.32  23.16  28.48  34.32  40.74  47.82   \n",
       "20835  3.0  6.3  9.92  13.92  18.32  23.16  28.48  34.32  40.74  47.82   \n",
       "20836  3.0  6.3  9.92  13.92  18.32  23.16  28.48  34.32  40.74  47.82   \n",
       "20837  3.0  6.3  9.92  13.92  18.32  23.16  28.48  34.32  40.74  47.82   \n",
       "20838  3.0  6.3  9.92  13.92  18.32  23.16  28.48  34.32  40.74  47.82   \n",
       "20839  3.0  6.3  9.92  13.92  18.32  23.16  28.48  34.32  40.74  47.82   \n",
       "20840  3.0  6.3  9.92  13.92  18.32  23.16  28.48  34.32  40.74  47.82   \n",
       "20841  3.0  6.3  9.92  13.92  18.32  23.16  28.48  34.32  40.74  47.82   \n",
       "20842  3.0  6.3  9.92  13.92  18.32  23.16  28.48  34.32  40.74  47.82   \n",
       "20843  3.0  6.3  9.92  13.92  18.32  23.16  28.48  34.32  40.74  47.82   \n",
       "20844  3.0  6.3  9.92  13.92  18.32  23.16  28.48  34.32  40.74  47.82   \n",
       "\n",
       "        ...        19      20      21      22     23      24      25     26  \\\n",
       "0       ...    171.84  192.02  214.22  238.64  265.5  295.04  327.54  363.3   \n",
       "1       ...    171.84  192.02  214.22  238.64  265.5  295.04  327.54  363.3   \n",
       "2       ...    171.84  192.02  214.22  238.64  265.5  295.04  327.54  363.3   \n",
       "3       ...    171.84  192.02  214.22  238.64  265.5  295.04  327.54  363.3   \n",
       "4       ...    171.84  192.02  214.22  238.64  265.5  295.04  327.54  363.3   \n",
       "5       ...    171.84  192.02  214.22  238.64  265.5  295.04  327.54  363.3   \n",
       "6       ...    171.84  192.02  214.22  238.64  265.5  295.04  327.54  363.3   \n",
       "7       ...    171.84  192.02  214.22  238.64  265.5  295.04  327.54  363.3   \n",
       "8       ...    171.84  192.02  214.22  238.64  265.5  295.04  327.54  363.3   \n",
       "9       ...    171.84  192.02  214.22  238.64  265.5  295.04  327.54  363.3   \n",
       "10      ...    171.84  192.02  214.22  238.64  265.5  295.04  327.54  363.3   \n",
       "11      ...    171.84  192.02  214.22  238.64  265.5  295.04  327.54  363.3   \n",
       "12      ...    171.84  192.02  214.22  238.64  265.5  295.04  327.54  363.3   \n",
       "13      ...    171.84  192.02  214.22  238.64  265.5  295.04  327.54  363.3   \n",
       "14      ...    171.84  192.02  214.22  238.64  265.5  295.04  327.54  363.3   \n",
       "15      ...    171.84  192.02  214.22  238.64  265.5  295.04  327.54  363.3   \n",
       "16      ...    171.84  192.02  214.22  238.64  265.5  295.04  327.54  363.3   \n",
       "17      ...    171.84  192.02  214.22  238.64  265.5  295.04  327.54  363.3   \n",
       "18      ...    171.84  192.02  214.22  238.64  265.5  295.04  327.54  363.3   \n",
       "19      ...    171.84  192.02  214.22  238.64  265.5  295.04  327.54  363.3   \n",
       "20      ...    171.84  192.02  214.22  238.64  265.5  295.04  327.54  363.3   \n",
       "21      ...    171.84  192.02  214.22  238.64  265.5  295.04  327.54  363.3   \n",
       "22      ...    171.84  192.02  214.22  238.64  265.5  295.04  327.54  363.3   \n",
       "23      ...    171.84  192.02  214.22  238.64  265.5  295.04  327.54  363.3   \n",
       "24      ...    171.84  192.02  214.22  238.64  265.5  295.04  327.54  363.3   \n",
       "25      ...    171.84  192.02  214.22  238.64  265.5  295.04  327.54  363.3   \n",
       "26      ...    171.84  192.02  214.22  238.64  265.5  295.04  327.54  363.3   \n",
       "27      ...    171.84  192.02  214.22  238.64  265.5  295.04  327.54  363.3   \n",
       "28      ...    171.84  192.02  214.22  238.64  265.5  295.04  327.54  363.3   \n",
       "29      ...    171.84  192.02  214.22  238.64  265.5  295.04  327.54  363.3   \n",
       "...     ...       ...     ...     ...     ...    ...     ...     ...    ...   \n",
       "20815   ...    171.84  192.02  214.22  238.64  265.5  295.04  327.54  363.3   \n",
       "20816   ...    171.84  192.02  214.22  238.64  265.5  295.04  327.54  363.3   \n",
       "20817   ...    171.84  192.02  214.22  238.64  265.5  295.04  327.54  363.3   \n",
       "20818   ...    171.84  192.02  214.22  238.64  265.5  295.04  327.54  363.3   \n",
       "20819   ...    171.84  192.02  214.22  238.64  265.5  295.04  327.54  363.3   \n",
       "20820   ...    171.84  192.02  214.22  238.64  265.5  295.04  327.54  363.3   \n",
       "20821   ...    171.84  192.02  214.22  238.64  265.5  295.04  327.54  363.3   \n",
       "20822   ...    171.84  192.02  214.22  238.64  265.5  295.04  327.54  363.3   \n",
       "20823   ...    171.84  192.02  214.22  238.64  265.5  295.04  327.54  363.3   \n",
       "20824   ...    171.84  192.02  214.22  238.64  265.5  295.04  327.54  363.3   \n",
       "20825   ...    171.84  192.02  214.22  238.64  265.5  295.04  327.54  363.3   \n",
       "20826   ...    171.84  192.02  214.22  238.64  265.5  295.04  327.54  363.3   \n",
       "20827   ...    171.84  192.02  214.22  238.64  265.5  295.04  327.54  363.3   \n",
       "20828   ...    171.84  192.02  214.22  238.64  265.5  295.04  327.54  363.3   \n",
       "20829   ...    171.84  192.02  214.22  238.64  265.5  295.04  327.54  363.3   \n",
       "20830   ...    171.84  192.02  214.22  238.64  265.5  295.04  327.54  363.3   \n",
       "20831   ...    171.84  192.02  214.22  238.64  265.5  295.04  327.54  363.3   \n",
       "20832   ...    171.84  192.02  214.22  238.64  265.5  295.04  327.54  363.3   \n",
       "20833   ...    171.84  192.02  214.22  238.64  265.5  295.04  327.54  363.3   \n",
       "20834   ...    171.84  192.02  214.22  238.64  265.5  295.04  327.54  363.3   \n",
       "20835   ...    171.84  192.02  214.22  238.64  265.5  295.04  327.54  363.3   \n",
       "20836   ...    171.84  192.02  214.22  238.64  265.5  295.04  327.54  363.3   \n",
       "20837   ...    171.84  192.02  214.22  238.64  265.5  295.04  327.54  363.3   \n",
       "20838   ...    171.84  192.02  214.22  238.64  265.5  295.04  327.54  363.3   \n",
       "20839   ...    171.84  192.02  214.22  238.64  265.5  295.04  327.54  363.3   \n",
       "20840   ...    171.84  192.02  214.22  238.64  265.5  295.04  327.54  363.3   \n",
       "20841   ...    171.84  192.02  214.22  238.64  265.5  295.04  327.54  363.3   \n",
       "20842   ...    171.84  192.02  214.22  238.64  265.5  295.04  327.54  363.3   \n",
       "20843   ...    171.84  192.02  214.22  238.64  265.5  295.04  327.54  363.3   \n",
       "20844   ...    171.84  192.02  214.22  238.64  265.5  295.04  327.54  363.3   \n",
       "\n",
       "           27      28  \n",
       "0      402.62  445.88  \n",
       "1      402.62  445.88  \n",
       "2      402.62  445.88  \n",
       "3      402.62  445.88  \n",
       "4      402.62  445.88  \n",
       "5      402.62  445.88  \n",
       "6      402.62  445.88  \n",
       "7      402.62  445.88  \n",
       "8      402.62  445.88  \n",
       "9      402.62  445.88  \n",
       "10     402.62  445.88  \n",
       "11     402.62  445.88  \n",
       "12     402.62  445.88  \n",
       "13     402.62  445.88  \n",
       "14     402.62  445.88  \n",
       "15     402.62  445.88  \n",
       "16     402.62  445.88  \n",
       "17     402.62  445.88  \n",
       "18     402.62  445.88  \n",
       "19     402.62  445.88  \n",
       "20     402.62  445.88  \n",
       "21     402.62  445.88  \n",
       "22     402.62  445.88  \n",
       "23     402.62  445.88  \n",
       "24     402.62  445.88  \n",
       "25     402.62  445.88  \n",
       "26     402.62  445.88  \n",
       "27     402.62  445.88  \n",
       "28     402.62  445.88  \n",
       "29     402.62  445.88  \n",
       "...       ...     ...  \n",
       "20815  402.62  445.88  \n",
       "20816  402.62  445.88  \n",
       "20817  402.62  445.88  \n",
       "20818  402.62  445.88  \n",
       "20819  402.62  445.88  \n",
       "20820  402.62  445.88  \n",
       "20821  402.62  445.88  \n",
       "20822  402.62  445.88  \n",
       "20823  402.62  445.88  \n",
       "20824  402.62  445.88  \n",
       "20825  402.62  445.88  \n",
       "20826  402.62  445.88  \n",
       "20827  402.62  445.88  \n",
       "20828  402.62  445.88  \n",
       "20829  402.62  445.88  \n",
       "20830  402.62  445.88  \n",
       "20831  402.62  445.88  \n",
       "20832  402.62  445.88  \n",
       "20833  402.62  445.88  \n",
       "20834  402.62  445.88  \n",
       "20835  402.62  445.88  \n",
       "20836  402.62  445.88  \n",
       "20837  402.62  445.88  \n",
       "20838  402.62  445.88  \n",
       "20839  402.62  445.88  \n",
       "20840  402.62  445.88  \n",
       "20841  402.62  445.88  \n",
       "20842  402.62  445.88  \n",
       "20843  402.62  445.88  \n",
       "20844  402.62  445.88  \n",
       "\n",
       "[20845 rows x 29 columns]], dtype=object)"
      ]
     },
     "execution_count": 23,
     "metadata": {},
     "output_type": "execute_result"
    }
   ],
   "source": [
    "array=np.array([[dat],[thicknessoflayers],[EC]])\n",
    "array[1]"
   ]
  },
  {
   "cell_type": "code",
   "execution_count": 10,
   "metadata": {
    "collapsed": true
   },
   "outputs": [],
   "source": [
    "#join datafile and layer thickness dataframes\n",
    "alldata=pd.concat([dat,thicknessoflayers,EC], axis=1, join='outer',ignore_index=True)\n",
    "##Weighting - adjust to hit reference model. set out to side and botom x layers. \n",
    "## input constraint to relax in horiz space\n"
   ]
  },
  {
   "cell_type": "code",
   "execution_count": 11,
   "metadata": {
    "collapsed": true,
    "scrolled": true
   },
   "outputs": [],
   "source": [
    "alldata=alldata.set_index([2,3], drop=False)\n",
    "alldata['all_sumcoord']=alldata[2]+alldata[3]"
   ]
  },
  {
   "cell_type": "code",
   "execution_count": 12,
   "metadata": {
    "collapsed": true,
    "scrolled": false
   },
   "outputs": [],
   "source": [
    "#open constraint csv\n",
    "constraint_name=str(\"input_test\") \n",
    "constraint_data= pd.read_csv(folder+constraint_name+\".csv\") #import control file\n",
    "constraint_data['const_sumcoord']=constraint_data['x']+constraint_data['y']\n",
    "constraint_data=constraint_data.set_index(['ID'], drop=False)"
   ]
  },
  {
   "cell_type": "code",
   "execution_count": 13,
   "metadata": {},
   "outputs": [
    {
     "data": {
      "text/html": [
       "<div>\n",
       "<style>\n",
       "    .dataframe thead tr:only-child th {\n",
       "        text-align: right;\n",
       "    }\n",
       "\n",
       "    .dataframe thead th {\n",
       "        text-align: left;\n",
       "    }\n",
       "\n",
       "    .dataframe tbody tr th {\n",
       "        vertical-align: top;\n",
       "    }\n",
       "</style>\n",
       "<table border=\"1\" class=\"dataframe\">\n",
       "  <thead>\n",
       "    <tr style=\"text-align: right;\">\n",
       "      <th></th>\n",
       "      <th>ID</th>\n",
       "      <th>x</th>\n",
       "      <th>y</th>\n",
       "      <th>zt</th>\n",
       "      <th>zb</th>\n",
       "      <th>v</th>\n",
       "      <th>const_sumcoord</th>\n",
       "    </tr>\n",
       "    <tr>\n",
       "      <th>ID</th>\n",
       "      <th></th>\n",
       "      <th></th>\n",
       "      <th></th>\n",
       "      <th></th>\n",
       "      <th></th>\n",
       "      <th></th>\n",
       "      <th></th>\n",
       "    </tr>\n",
       "  </thead>\n",
       "  <tbody>\n",
       "    <tr>\n",
       "      <th>erin</th>\n",
       "      <td>erin</td>\n",
       "      <td>220955.6</td>\n",
       "      <td>6867443.6</td>\n",
       "      <td>0</td>\n",
       "      <td>-10</td>\n",
       "      <td>0.05</td>\n",
       "      <td>7088399.2</td>\n",
       "    </tr>\n",
       "    <tr>\n",
       "      <th>rules</th>\n",
       "      <td>rules</td>\n",
       "      <td>220956.6</td>\n",
       "      <td>6867444.6</td>\n",
       "      <td>-10</td>\n",
       "      <td>-20</td>\n",
       "      <td>0.10</td>\n",
       "      <td>7088401.2</td>\n",
       "    </tr>\n",
       "  </tbody>\n",
       "</table>\n",
       "</div>"
      ],
      "text/plain": [
       "          ID         x          y  zt  zb     v  const_sumcoord\n",
       "ID                                                             \n",
       "erin    erin  220955.6  6867443.6   0 -10  0.05       7088399.2\n",
       "rules  rules  220956.6  6867444.6 -10 -20  0.10       7088401.2"
      ]
     },
     "execution_count": 13,
     "metadata": {},
     "output_type": "execute_result"
    }
   ],
   "source": [
    "constraint_data"
   ]
  },
  {
   "cell_type": "code",
   "execution_count": 14,
   "metadata": {},
   "outputs": [
    {
     "data": {
      "text/html": [
       "<div>\n",
       "<style>\n",
       "    .dataframe thead tr:only-child th {\n",
       "        text-align: right;\n",
       "    }\n",
       "\n",
       "    .dataframe thead th {\n",
       "        text-align: left;\n",
       "    }\n",
       "\n",
       "    .dataframe tbody tr th {\n",
       "        vertical-align: top;\n",
       "    }\n",
       "</style>\n",
       "<table border=\"1\" class=\"dataframe\">\n",
       "  <thead>\n",
       "    <tr style=\"text-align: right;\">\n",
       "      <th></th>\n",
       "      <th>E_matched</th>\n",
       "      <th>N_matched</th>\n",
       "    </tr>\n",
       "    <tr>\n",
       "      <th>0</th>\n",
       "      <th></th>\n",
       "      <th></th>\n",
       "    </tr>\n",
       "  </thead>\n",
       "  <tbody>\n",
       "    <tr>\n",
       "      <th>erin</th>\n",
       "      <td>220955.6</td>\n",
       "      <td>6867443.6</td>\n",
       "    </tr>\n",
       "    <tr>\n",
       "      <th>rules</th>\n",
       "      <td>220958.6</td>\n",
       "      <td>6867443.7</td>\n",
       "    </tr>\n",
       "  </tbody>\n",
       "</table>\n",
       "</div>"
      ],
      "text/plain": [
       "       E_matched  N_matched\n",
       "0                          \n",
       "erin    220955.6  6867443.6\n",
       "rules   220958.6  6867443.7"
      ]
     },
     "execution_count": 14,
     "metadata": {},
     "output_type": "execute_result"
    }
   ],
   "source": [
    "matched=pd.DataFrame([0,0,0]).transpose().set_index([0])\n",
    "\n",
    "for x in range(len(constraint_data)):\n",
    "    g=(constraint_data.ID[x])\n",
    "    h=(constraint_data.const_sumcoord[x])\n",
    "    alldata[str(g)]= np.abs(alldata.all_sumcoord-h) \n",
    "    matched1=np.argmin(alldata[str(g)])\n",
    "    e_matched=matched1[0]\n",
    "    n_matched=matched1[1]\n",
    "    matched2=pd.DataFrame([g,float(e_matched),float(n_matched)]).transpose().set_index([0]).astype(float)\n",
    "    matched=pd.concat([matched,matched2], axis=0)\n",
    "\n",
    "matched=matched.rename(columns={1:'E_matched',2:'N_matched'}).drop([0])\n",
    "matched"
   ]
  },
  {
   "cell_type": "code",
   "execution_count": 15,
   "metadata": {},
   "outputs": [
    {
     "data": {
      "text/html": [
       "<div>\n",
       "<style>\n",
       "    .dataframe thead tr:only-child th {\n",
       "        text-align: right;\n",
       "    }\n",
       "\n",
       "    .dataframe thead th {\n",
       "        text-align: left;\n",
       "    }\n",
       "\n",
       "    .dataframe tbody tr th {\n",
       "        vertical-align: top;\n",
       "    }\n",
       "</style>\n",
       "<table border=\"1\" class=\"dataframe\">\n",
       "  <thead>\n",
       "    <tr style=\"text-align: right;\">\n",
       "      <th></th>\n",
       "      <th></th>\n",
       "      <th>ID</th>\n",
       "      <th>x</th>\n",
       "      <th>y</th>\n",
       "      <th>zt</th>\n",
       "      <th>zb</th>\n",
       "      <th>v</th>\n",
       "      <th>const_sumcoord</th>\n",
       "      <th>E_matched</th>\n",
       "      <th>N_matched</th>\n",
       "    </tr>\n",
       "    <tr>\n",
       "      <th>E_matched</th>\n",
       "      <th>N_matched</th>\n",
       "      <th></th>\n",
       "      <th></th>\n",
       "      <th></th>\n",
       "      <th></th>\n",
       "      <th></th>\n",
       "      <th></th>\n",
       "      <th></th>\n",
       "      <th></th>\n",
       "      <th></th>\n",
       "    </tr>\n",
       "  </thead>\n",
       "  <tbody>\n",
       "    <tr>\n",
       "      <th>220955.6</th>\n",
       "      <th>6867443.6</th>\n",
       "      <td>erin</td>\n",
       "      <td>220955.6</td>\n",
       "      <td>6867443.6</td>\n",
       "      <td>0</td>\n",
       "      <td>-10</td>\n",
       "      <td>0.05</td>\n",
       "      <td>7088399.2</td>\n",
       "      <td>220955.6</td>\n",
       "      <td>6867443.6</td>\n",
       "    </tr>\n",
       "    <tr>\n",
       "      <th>220958.6</th>\n",
       "      <th>6867443.7</th>\n",
       "      <td>rules</td>\n",
       "      <td>220956.6</td>\n",
       "      <td>6867444.6</td>\n",
       "      <td>-10</td>\n",
       "      <td>-20</td>\n",
       "      <td>0.10</td>\n",
       "      <td>7088401.2</td>\n",
       "      <td>220958.6</td>\n",
       "      <td>6867443.7</td>\n",
       "    </tr>\n",
       "  </tbody>\n",
       "</table>\n",
       "</div>"
      ],
      "text/plain": [
       "                        ID         x          y  zt  zb     v  const_sumcoord  \\\n",
       "E_matched N_matched                                                             \n",
       "220955.6  6867443.6   erin  220955.6  6867443.6   0 -10  0.05       7088399.2   \n",
       "220958.6  6867443.7  rules  220956.6  6867444.6 -10 -20  0.10       7088401.2   \n",
       "\n",
       "                     E_matched  N_matched  \n",
       "E_matched N_matched                        \n",
       "220955.6  6867443.6   220955.6  6867443.6  \n",
       "220958.6  6867443.7   220958.6  6867443.7  "
      ]
     },
     "execution_count": 15,
     "metadata": {},
     "output_type": "execute_result"
    }
   ],
   "source": [
    "constraint_data2= pd.concat([constraint_data, matched],axis=1)\n",
    "constraint_data2\n",
    "constraint_data2=constraint_data2.set_index(['E_matched','N_matched'], drop=False)\n",
    "constraint_data2"
   ]
  },
  {
   "cell_type": "code",
   "execution_count": 16,
   "metadata": {
    "collapsed": true
   },
   "outputs": [],
   "source": [
    "#create and save a .csv that contains depth of investigation data for input into Discover PA software\n",
    "alldata.to_csv(output_folder+'/depth_data.csv') #save doi data as csv"
   ]
  },
  {
   "cell_type": "code",
   "execution_count": null,
   "metadata": {
    "collapsed": true
   },
   "outputs": [],
   "source": []
  },
  {
   "cell_type": "code",
   "execution_count": null,
   "metadata": {
    "collapsed": true
   },
   "outputs": [],
   "source": []
  },
  {
   "cell_type": "code",
   "execution_count": null,
   "metadata": {
    "collapsed": true
   },
   "outputs": [],
   "source": []
  },
  {
   "cell_type": "code",
   "execution_count": null,
   "metadata": {
    "collapsed": true
   },
   "outputs": [],
   "source": []
  },
  {
   "cell_type": "code",
   "execution_count": null,
   "metadata": {
    "collapsed": true,
    "scrolled": true
   },
   "outputs": [],
   "source": [
    "# for row in constraint_data:\n",
    "#     print(row)\n",
    "    #sample[str(row)]= 0\n",
    "\n",
    "#print(sample)\n",
    "    \n",
    "    \n",
    "#     print('loop1_start')\n",
    "#     print(row)\n",
    "#     print('loop1_ends')\n",
    "#     for blah in constraint_data['const_sumcoord']:\n",
    "#         print('loop2_starts')\n",
    "#         print (blah)\n",
    "#         print('loop2_ends')\n",
    "# #         while x>0:\n",
    "#         for rah in sample:\n",
    "#             sample[str(row)]=np.abs(test.all_sumcoord-blah)\n",
    "# #                 x=x-1\n",
    "#             print(sample)\n",
    "                "
   ]
  },
  {
   "cell_type": "code",
   "execution_count": null,
   "metadata": {
    "collapsed": true
   },
   "outputs": [],
   "source": [
    "## find coordinate\n",
    "## enter layer thickness (e.g 3)\n",
    "## extrapolate between the points to maximum layers (e.g. 30)"
   ]
  },
  {
   "cell_type": "code",
   "execution_count": null,
   "metadata": {
    "collapsed": true,
    "scrolled": true
   },
   "outputs": [],
   "source": [
    "# #create a dataframe that contains layer thickness saved in confile (.con)\n",
    "# tlayers=con.loc[con[0].str.contains('Thickness      = ')]\n",
    "# thicknessoflayers= tlayers.replace(regex=True,to_replace=r'Thickness      = ', value=r'')\n",
    "# thicknessoflayers=thicknessoflayers[0].str.split((' '),expand=True).replace('',np.nan)\n",
    "# thicknessoflayers.dropna(axis=1,inplace=True)\n",
    "# thicknessoflayers=(pd.np.tile(thicknessoflayers, (datlen, 1)))\n",
    "# #thicknessoflayers=pd.DataFrame(thicknessoflayers)\n",
    "# thicknessoflayers"
   ]
  },
  {
   "cell_type": "code",
   "execution_count": null,
   "metadata": {
    "collapsed": true
   },
   "outputs": [],
   "source": [
    "# thicknessoflayers=(pd.np.tile(thicknessoflayers, (datlen, 1)))\n"
   ]
  },
  {
   "cell_type": "code",
   "execution_count": null,
   "metadata": {
    "collapsed": true
   },
   "outputs": [],
   "source": []
  },
  {
   "cell_type": "code",
   "execution_count": null,
   "metadata": {
    "collapsed": true
   },
   "outputs": [],
   "source": [
    "def coord(easting,northing):\n",
    "    easting=int(easting)\n",
    "    northing=int(northing)\n",
    "    print(type(easting))\n",
    "\n",
    "coord('1','2')"
   ]
  },
  {
   "cell_type": "code",
   "execution_count": null,
   "metadata": {
    "collapsed": true
   },
   "outputs": [],
   "source": [
    "def print_text():\n",
    "    print(\"complete\")"
   ]
  },
  {
   "cell_type": "code",
   "execution_count": null,
   "metadata": {
    "collapsed": true
   },
   "outputs": [],
   "source": [
    "a = [[1, 2, 3, 4], [5, 6], [7, 8, 9]]\n",
    "for i in range(len(a)):\n",
    "    for j in range(len(a[i])):\n",
    "        print(a[i][j], end=' ')\n",
    "    print()"
   ]
  }
 ],
 "metadata": {
  "kernelspec": {
   "display_name": "Python 3",
   "language": "python",
   "name": "python3"
  },
  "language_info": {
   "codemirror_mode": {
    "name": "ipython",
    "version": 3
   },
   "file_extension": ".py",
   "mimetype": "text/x-python",
   "name": "python",
   "nbconvert_exporter": "python",
   "pygments_lexer": "ipython3",
   "version": "3.6.1"
  }
 },
 "nbformat": 4,
 "nbformat_minor": 2
}
